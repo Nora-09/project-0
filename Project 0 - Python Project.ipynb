{
 "cells": [
  {
   "cell_type": "markdown",
   "metadata": {},
   "source": [
    "# تمارين لغة بايثون"
   ]
  },
  {
   "cell_type": "markdown",
   "metadata": {},
   "source": [
    "مرحبًا، هذا الملف سيكون تقييمًا جيدًا لنا لمعرفة مهارتنا في لغة بايثون  \n",
    "من المهم لنا أن نتقن استخدام الأداة حتى نحقق أهدافنا، و أداتنا في هذا المعسكر هي لغة بايثون  \n",
    "سنطلب منك حل التحديات القصيرة أدناه، لتتمكن من تقييم نفسك ، بالتوفيق!\n",
    "\n",
    "ملاحظة: لا يوجد حل واحد صحيح، و هذا ما يميز البرمجة حقًا"
   ]
  },
  {
   "cell_type": "markdown",
   "metadata": {},
   "source": [
    "### المهمة الأولى"
   ]
  },
  {
   "cell_type": "markdown",
   "metadata": {},
   "source": [
    "لدينا أربعة متغيرات هنا، هل يمكننا برمجيًا معرفة نوع هذه المتغيرات؟  \n",
    "يرجى كتابة الحل المقترح"
   ]
  },
  {
   "cell_type": "code",
   "execution_count": 1,
   "metadata": {},
   "outputs": [
    {
     "data": {
      "text/plain": [
       "int"
      ]
     },
     "execution_count": 1,
     "metadata": {},
     "output_type": "execute_result"
    }
   ],
   "source": [
    "x = 7\n",
    "y = x/3\n",
    "z = x == 7\n",
    "s = \"Hello python programmer!\"\n",
    "type(x)"
   ]
  },
  {
   "cell_type": "code",
   "execution_count": 2,
   "metadata": {},
   "outputs": [
    {
     "data": {
      "text/plain": [
       "float"
      ]
     },
     "execution_count": 2,
     "metadata": {},
     "output_type": "execute_result"
    }
   ],
   "source": [
    "type(y)"
   ]
  },
  {
   "cell_type": "code",
   "execution_count": 3,
   "metadata": {},
   "outputs": [
    {
     "data": {
      "text/plain": [
       "bool"
      ]
     },
     "execution_count": 3,
     "metadata": {},
     "output_type": "execute_result"
    }
   ],
   "source": [
    "type(z)"
   ]
  },
  {
   "cell_type": "code",
   "execution_count": 4,
   "metadata": {},
   "outputs": [
    {
     "data": {
      "text/plain": [
       "str"
      ]
     },
     "execution_count": 4,
     "metadata": {},
     "output_type": "execute_result"
    }
   ],
   "source": [
    "type(s)"
   ]
  },
  {
   "cell_type": "markdown",
   "metadata": {},
   "source": [
    "### المهمة الثانية"
   ]
  },
  {
   "cell_type": "markdown",
   "metadata": {},
   "source": [
    "نرغب بطباعة الجملة التالية:  \n",
    "\"I want to pay 10.5 riyals for 2 pieces of this item.\"  \n",
    "لكننا سنقوم باستخدام المتغيرات المعرفة لدينا (متغير السعر ومتغير الكمية) بدلا من إعادة كتابة الأرقام، هل يمكنك فعلها؟"
   ]
  },
  {
   "cell_type": "code",
   "execution_count": 5,
   "metadata": {},
   "outputs": [
    {
     "name": "stdout",
     "output_type": "stream",
     "text": [
      "I want to pay 10.5 riyals for 2 pieces of this item.\n"
     ]
    }
   ],
   "source": [
    "quantity = 2\n",
    "price = 10.5\n",
    "print(\"I want to pay\" , price , \"riyals for\" , quantity ,\"pieces of this item.\")"
   ]
  },
  {
   "cell_type": "markdown",
   "metadata": {},
   "source": [
    "### المهمة الثالثة"
   ]
  },
  {
   "cell_type": "markdown",
   "metadata": {},
   "source": [
    "قم بكتابة دالة تقوم بمقارنة الرقم المدخل (مثل ١٩) بالرقم ١٠ و تخبرك ما إذا كان أكبر من الرقم ١٠ أم لا"
   ]
  },
  {
   "cell_type": "code",
   "execution_count": 6,
   "metadata": {},
   "outputs": [],
   "source": [
    "def number(y):\n",
    "    if (y > 10):\n",
    "        print(\"bigger_than_10(\",y,\")\")\n",
    "    else:\n",
    "        print(\"smaller_than_10(\",y,\")\")"
   ]
  },
  {
   "cell_type": "code",
   "execution_count": 7,
   "metadata": {},
   "outputs": [
    {
     "name": "stdout",
     "output_type": "stream",
     "text": [
      "bigger_than_10( 19 )\n"
     ]
    }
   ],
   "source": [
    "number(19)"
   ]
  },
  {
   "cell_type": "markdown",
   "metadata": {},
   "source": [
    "### المهمة الرابعة"
   ]
  },
  {
   "cell_type": "markdown",
   "metadata": {},
   "source": [
    "لدينا قائمة من الفواكه، كيف يمكننا برمجيا الحصول على آخر فاكهتين في القائمة؟"
   ]
  },
  {
   "cell_type": "code",
   "execution_count": 8,
   "metadata": {},
   "outputs": [
    {
     "data": {
      "text/plain": [
       "['melon', 'mango']"
      ]
     },
     "execution_count": 8,
     "metadata": {},
     "output_type": "execute_result"
    }
   ],
   "source": [
    "fruites = [\"apple\", \"banana\", \"cherry\", \"orange\", \"kiwi\", \"melon\", \"mango\"]\n",
    "fruites [-2:]"
   ]
  },
  {
   "cell_type": "markdown",
   "metadata": {},
   "source": [
    "هل يمكننا طباعة كل عنصر من القائمة السابقة في سطر مستقل؟"
   ]
  },
  {
   "cell_type": "code",
   "execution_count": 9,
   "metadata": {},
   "outputs": [
    {
     "name": "stdout",
     "output_type": "stream",
     "text": [
      "apple\n",
      "banana\n",
      "cherry\n",
      "orange\n",
      "kiwi\n",
      "melon\n",
      "mango\n"
     ]
    }
   ],
   "source": [
    "fruites = [\"apple\", \"banana\", \"cherry\", \"orange\", \"kiwi\", \"melon\", \"mango\"]\n",
    "for x in fruites:\n",
    "    print(x)"
   ]
  },
  {
   "cell_type": "markdown",
   "metadata": {},
   "source": [
    "### المهمة الخامسة"
   ]
  },
  {
   "cell_type": "markdown",
   "metadata": {},
   "source": [
    "لنفترض أن لدينا المعجم التالي، نريد إضافة المفتاح  \n",
    "black  \n",
    "بالقيمة  \n",
    "000000"
   ]
  },
  {
   "cell_type": "code",
   "execution_count": 10,
   "metadata": {},
   "outputs": [
    {
     "name": "stdout",
     "output_type": "stream",
     "text": [
      "{'blue': '0000FF', 'green': '00FF00', 'yellow': 'FFFF00', 'red': 'FF0000', 'white': 'unknown', 'black': '000000'}\n"
     ]
    }
   ],
   "source": [
    "colors = {\n",
    "  \"blue\": \"0000FF\",\n",
    "  \"green\": \"00FF00\",\n",
    "  \"yellow\": \"FFFF00\",\n",
    "  \"red\": \"FF0000\",\n",
    "  \"white\": \"unknown\"}\n",
    "colors[\"black\"]= \"000000\"\n",
    "print(colors)"
   ]
  },
  {
   "cell_type": "markdown",
   "metadata": {},
   "source": [
    "هل يمكننا تغيير قيمة المفتاح  \n",
    "white  \n",
    "بالقيمة  \n",
    "FFFFFF ?"
   ]
  },
  {
   "cell_type": "code",
   "execution_count": 11,
   "metadata": {},
   "outputs": [
    {
     "name": "stdout",
     "output_type": "stream",
     "text": [
      "{'blue': '0000FF', 'green': '00FF00', 'yellow': 'FFFF00', 'red': 'FF0000', 'white': 'FFFFFF', 'black': '000000'}\n"
     ]
    }
   ],
   "source": [
    "colors[\"white\"]= \"FFFFFF\"\n",
    "print(colors)"
   ]
  },
  {
   "cell_type": "markdown",
   "metadata": {},
   "source": [
    "نريد إنشاء دالة تقوم بأخذ قائمة و استبدال عناصرها بالقيم من المعجم بالاستعانة بالمفاتيح\n",
    "مثال: نستبدل  \n",
    "blue  \n",
    "  بالقيمة  \n",
    "  0000FF"
   ]
  },
  {
   "cell_type": "code",
   "execution_count": 15,
   "metadata": {},
   "outputs": [],
   "source": [
    "lista = ['blue','white', 'black', 'yellow', 'green', 'red']"
   ]
  },
  {
   "cell_type": "code",
   "execution_count": 16,
   "metadata": {},
   "outputs": [],
   "source": [
    "def exchange_values(lista):\n",
    "    for i in range(len(lista)):\n",
    "         lista[i]= colors[lista[i]]"
   ]
  },
  {
   "cell_type": "code",
   "execution_count": 20,
   "metadata": {},
   "outputs": [
    {
     "data": {
      "text/plain": [
       "['0000FF', 'FFFFFF', '000000', 'FFFF00', '00FF00', 'FF0000']"
      ]
     },
     "execution_count": 20,
     "metadata": {},
     "output_type": "execute_result"
    }
   ],
   "source": [
    "lista"
   ]
  }
 ],
 "metadata": {
  "kernelspec": {
   "display_name": "Python 3",
   "language": "python",
   "name": "python3"
  },
  "language_info": {
   "codemirror_mode": {
    "name": "ipython",
    "version": 3
   },
   "file_extension": ".py",
   "mimetype": "text/x-python",
   "name": "python",
   "nbconvert_exporter": "python",
   "pygments_lexer": "ipython3",
   "version": "3.7.4"
  }
 },
 "nbformat": 4,
 "nbformat_minor": 2
}
